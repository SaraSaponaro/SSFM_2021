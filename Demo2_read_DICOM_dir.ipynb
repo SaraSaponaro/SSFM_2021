{
  "nbformat": 4,
  "nbformat_minor": 0,
  "metadata": {
    "kernelspec": {
      "display_name": "Python 3",
      "language": "python",
      "name": "python3"
    },
    "language_info": {
      "codemirror_mode": {
        "name": "ipython",
        "version": 3
      },
      "file_extension": ".py",
      "mimetype": "text/x-python",
      "name": "python",
      "nbconvert_exporter": "python",
      "pygments_lexer": "ipython3",
      "version": "3.7.3"
    },
    "colab": {
      "name": "Demo2_read_DICOM_dir.ipynb",
      "provenance": [],
      "include_colab_link": true
    }
  },
  "cells": [
    {
      "cell_type": "markdown",
      "metadata": {
        "id": "view-in-github",
        "colab_type": "text"
      },
      "source": [
        "<a href=\"https://colab.research.google.com/github/retico/SSFM_2021/blob/main/Demo2_read_DICOM_dir.ipynb\" target=\"_parent\"><img src=\"https://colab.research.google.com/assets/colab-badge.svg\" alt=\"Open In Colab\"/></a>"
      ]
    },
    {
      "cell_type": "code",
      "metadata": {
        "id": "eSJoZrFAxGWM"
      },
      "source": [
        "%matplotlib inline"
      ],
      "execution_count": null,
      "outputs": []
    },
    {
      "cell_type": "markdown",
      "metadata": {
        "id": "stFmDqShuwU2"
      },
      "source": [
        "# Reading the dataset from Google Drive\n",
        "Prior to this operation be sure to have added the shared folder to your Google Drive"
      ]
    },
    {
      "cell_type": "code",
      "metadata": {
        "id": "1rZTWcJbuvow"
      },
      "source": [
        "from google.colab import drive\n",
        "drive.mount('/content/drive')"
      ],
      "execution_count": null,
      "outputs": []
    },
    {
      "cell_type": "code",
      "metadata": {
        "id": "u4HgJF9jEsYh"
      },
      "source": [
        "!ls \"/content/drive/My Drive/\""
      ],
      "execution_count": null,
      "outputs": []
    },
    {
      "cell_type": "code",
      "metadata": {
        "id": "8qod2VgJvg19"
      },
      "source": [
        "!ls \"/content/drive/My Drive/cmepda_medphys_dataset/IMAGES/DICOM_Examples\""
      ],
      "execution_count": null,
      "outputs": []
    },
    {
      "cell_type": "code",
      "metadata": {
        "id": "bH0mJAHkTUEp"
      },
      "source": [
        "!cp \"/content/drive/My Drive/cmepda_medphys_dataset/IMAGES/DICOM_Examples/Lung_CT_cd2-20191122T084339Z-001.zip\" /content/"
      ],
      "execution_count": null,
      "outputs": []
    },
    {
      "cell_type": "code",
      "metadata": {
        "id": "E8vZrlAHUDBB"
      },
      "source": [
        "!ls /content/"
      ],
      "execution_count": null,
      "outputs": []
    },
    {
      "cell_type": "code",
      "metadata": {
        "id": "bkxrK93wUKEp"
      },
      "source": [
        "!unzip /content/Lung_CT_cd2-20191122T084339Z-001.zip"
      ],
      "execution_count": null,
      "outputs": []
    },
    {
      "cell_type": "code",
      "metadata": {
        "id": "yUxvkJd2UT-U"
      },
      "source": [
        "!ls /content/Lung_CT_cd2/"
      ],
      "execution_count": null,
      "outputs": []
    },
    {
      "cell_type": "code",
      "metadata": {
        "id": "QNVzgUb3vwI2"
      },
      "source": [
        "DATASETS = \"/content/Lung_CT_cd2\""
      ],
      "execution_count": null,
      "outputs": []
    },
    {
      "cell_type": "markdown",
      "metadata": {
        "id": "U0IFqV7mxGWW"
      },
      "source": [
        "## Demo 2: reading a DICOM directory using the pydicom package\n",
        "\n",
        "This example illustrates how to use the pydicom package to open a DICOM directory, \n",
        "print some dataset information (metadata), and view the images on different planes using matplotlib.\n"
      ]
    },
    {
      "cell_type": "code",
      "metadata": {
        "id": "aLamGT38x8tD"
      },
      "source": [
        "!pip install pydicom"
      ],
      "execution_count": null,
      "outputs": []
    },
    {
      "cell_type": "code",
      "metadata": {
        "id": "ZLgKnBCtxGWY"
      },
      "source": [
        "import os\n",
        "import glob\n",
        "import numpy as np\n",
        "import matplotlib.pyplot as plt\n",
        "import pydicom\n",
        "from pydicom.filereader import read_dicomdir"
      ],
      "execution_count": null,
      "outputs": []
    },
    {
      "cell_type": "markdown",
      "metadata": {
        "id": "EsZT-GW1xGWd"
      },
      "source": [
        "We use the `glob.glob` to get a list of all the files matching the pattern *data_path/\\* *, i.e. data_path/whatever"
      ]
    },
    {
      "cell_type": "code",
      "metadata": {
        "id": "MFMuP6BwxGWf"
      },
      "source": [
        "data_path = os.path.join(DATASETS, \"12031814\")\n",
        "dicom_files = glob.glob(os.path.join(data_path, '*'))"
      ],
      "execution_count": null,
      "outputs": []
    },
    {
      "cell_type": "code",
      "metadata": {
        "id": "5z-oPpmoxGWj"
      },
      "source": [
        "# Print out the first 5 file names to verify we're in the right folder.\n",
        "print(\"Total of {} DICOM images.\\nFirst 5 filenames:\".format(len(dicom_files)))\n",
        "dicom_files[:5]"
      ],
      "execution_count": null,
      "outputs": []
    },
    {
      "cell_type": "markdown",
      "metadata": {
        "id": "8V2ZhSYPxGWn"
      },
      "source": [
        "Let's try to open the first one as a check"
      ]
    },
    {
      "cell_type": "code",
      "metadata": {
        "id": "WhhmEq2dxGWo"
      },
      "source": [
        "dataset = pydicom.dcmread(dicom_files[0])\n",
        "\n",
        "plt.imshow(dataset.pixel_array, cmap=plt.cm.bone)\n",
        "plt.show()\n"
      ],
      "execution_count": null,
      "outputs": []
    },
    {
      "cell_type": "markdown",
      "metadata": {
        "id": "WYKB2ihaxGW3"
      },
      "source": [
        "# Load dicom files into Numpy arrays"
      ]
    },
    {
      "cell_type": "code",
      "metadata": {
        "id": "y-g6HL1vxGW4"
      },
      "source": [
        "import numpy as np\n",
        "import pydicom\n",
        "import glob\n",
        "import matplotlib.pyplot as plt"
      ],
      "execution_count": null,
      "outputs": []
    },
    {
      "cell_type": "code",
      "metadata": {
        "id": "v_QIfNLWxGW8"
      },
      "source": [
        "data_path = os.path.join(DATASETS, \"12031814\")\n",
        "dicom_files = glob.glob(os.path.join(data_path, '*'))"
      ],
      "execution_count": null,
      "outputs": []
    },
    {
      "cell_type": "markdown",
      "metadata": {
        "id": "IXxkDdW9xGW_"
      },
      "source": [
        "From the first dicom file, I read some useful data such as the number of rows and columns, and how the image intensities are represented, i.e. int, uint16, float, etc."
      ]
    },
    {
      "cell_type": "code",
      "metadata": {
        "id": "pnzRmImJxGXA"
      },
      "source": [
        "dataset = pydicom.read_file(dicom_files[0])"
      ],
      "execution_count": null,
      "outputs": []
    },
    {
      "cell_type": "code",
      "metadata": {
        "id": "KiJDDBt9xGXD"
      },
      "source": [
        "shape = dataset.Rows, dataset.Columns, len(dicom_files)\n",
        "shape"
      ],
      "execution_count": null,
      "outputs": []
    },
    {
      "cell_type": "code",
      "metadata": {
        "id": "jjcWH6YnxGXF"
      },
      "source": [
        "dataset.pixel_array.dtype"
      ],
      "execution_count": null,
      "outputs": []
    },
    {
      "cell_type": "markdown",
      "metadata": {
        "id": "RB3kvPr_xGXI"
      },
      "source": [
        "For the sake of efficiency, we prealloacate the memory required to store the images"
      ]
    },
    {
      "cell_type": "code",
      "metadata": {
        "id": "a5b1zrd6xGXK"
      },
      "source": [
        "CT_array = np.zeros(shape, dtype=dataset.pixel_array.dtype)\n",
        "for i, fname in enumerate(dicom_files):\n",
        "    CT_array[:,:,i] = pydicom.read_file(fname).pixel_array"
      ],
      "execution_count": null,
      "outputs": []
    },
    {
      "cell_type": "code",
      "metadata": {
        "id": "hf5j9_w3xGXM"
      },
      "source": [
        "CT_array.shape"
      ],
      "execution_count": null,
      "outputs": []
    },
    {
      "cell_type": "code",
      "metadata": {
        "id": "tZJpQGQUxGXQ"
      },
      "source": [
        "ct = CT_array[:,:, CT_array.shape[2]//2 ]\n",
        "plt.imshow(ct, cmap='gray')"
      ],
      "execution_count": null,
      "outputs": []
    },
    {
      "cell_type": "code",
      "metadata": {
        "id": "lnYNVYXLxGXR"
      },
      "source": [
        "ct = CT_array[:, CT_array.shape[1]//2 , :]\n",
        "plt.imshow(ct, cmap='gray')"
      ],
      "execution_count": null,
      "outputs": []
    },
    {
      "cell_type": "markdown",
      "metadata": {
        "id": "JsLuIJ92xGXV"
      },
      "source": [
        "## A more correct approach"
      ]
    },
    {
      "cell_type": "markdown",
      "metadata": {
        "id": "Dy_6F_WOxGXV"
      },
      "source": [
        "We assumed that dicom files are lexicographically ordered but to be sure to order the columns correctly we must read some information about the images from the dicom header."
      ]
    },
    {
      "cell_type": "code",
      "metadata": {
        "id": "b6ot8dzNxGXV"
      },
      "source": [
        "import numpy as np\n",
        "import pydicom\n",
        "import glob\n",
        "import os"
      ],
      "execution_count": null,
      "outputs": []
    },
    {
      "cell_type": "code",
      "metadata": {
        "id": "EnXhDQCSxGXY"
      },
      "source": [
        "data_path = os.path.join(DATASETS, \"12031814\")\n",
        "dicom_files = glob.glob(os.path.join(data_path, '*'))"
      ],
      "execution_count": null,
      "outputs": []
    },
    {
      "cell_type": "markdown",
      "metadata": {
        "id": "TULHscXnxGXc"
      },
      "source": [
        "**Slice Location (0020,1041)** is defined as the relative position of the image plane expressed in mm.\n",
        "This information is relative to an unspecified implementation specific reference point."
      ]
    },
    {
      "cell_type": "markdown",
      "metadata": {
        "id": "cF_BzgQjxGXc"
      },
      "source": [
        "After reading all of the dicom files, we filter out the ones without the SliceLocation field"
      ]
    },
    {
      "cell_type": "code",
      "metadata": {
        "id": "cbfzKwMlxGXd"
      },
      "source": [
        "dicom_slices = [ pydicom.read_file(fname) for fname in dicom_files]\n",
        "slices = [dcm_slice for dcm_slice in dicom_slices if hasattr(dcm_slice, 'SliceLocation')]"
      ],
      "execution_count": null,
      "outputs": []
    },
    {
      "cell_type": "code",
      "metadata": {
        "id": "T4REN4rLxGXf"
      },
      "source": [
        "slices[0].SliceLocation"
      ],
      "execution_count": null,
      "outputs": []
    },
    {
      "cell_type": "code",
      "metadata": {
        "id": "6bqU5T9VAVxf"
      },
      "source": [
        "plt.imshow(slices[0].pixel_array, cmap=plt.cm.bone)\n",
        "plt.show()"
      ],
      "execution_count": null,
      "outputs": []
    },
    {
      "cell_type": "code",
      "metadata": {
        "id": "pcg-oiCnADam"
      },
      "source": [
        "len(slices)"
      ],
      "execution_count": null,
      "outputs": []
    },
    {
      "cell_type": "markdown",
      "metadata": {
        "id": "-r9D35jzxGXi"
      },
      "source": [
        "Let's sort the list by means of the slice location attribute, i.e. the correct order"
      ]
    },
    {
      "cell_type": "code",
      "metadata": {
        "id": "1Tim31t7xGXi"
      },
      "source": [
        "slices.sort(key=lambda x: x.SliceLocation)"
      ],
      "execution_count": null,
      "outputs": []
    },
    {
      "cell_type": "markdown",
      "metadata": {
        "id": "5dtTCYC3xGXk"
      },
      "source": [
        "We now build a NumPy array which contains the images"
      ]
    },
    {
      "cell_type": "code",
      "metadata": {
        "id": "As6kK1wexGXl"
      },
      "source": [
        "shape = slices[0].Rows, slices[0].Columns, len(slices)\n",
        "\n",
        "CT_array = np.zeros(shape, dtype=slices[0].pixel_array.dtype)\n",
        "for i, dcm in enumerate(slices):\n",
        "    CT_array[:,:,i] = dcm.pixel_array"
      ],
      "execution_count": null,
      "outputs": []
    },
    {
      "cell_type": "code",
      "metadata": {
        "id": "S6Db9azkxGXn"
      },
      "source": [
        "CT_array.shape"
      ],
      "execution_count": null,
      "outputs": []
    },
    {
      "cell_type": "code",
      "metadata": {
        "id": "xSrScjT-xGXp"
      },
      "source": [
        "plt.imshow(CT_array[:, CT_array.shape[1]//2,:], cmap='gray')"
      ],
      "execution_count": null,
      "outputs": []
    },
    {
      "cell_type": "markdown",
      "metadata": {
        "id": "9cMjDbDRxGXs"
      },
      "source": [
        "When plotting the different views, it is necessary to preserve the aspect ratio "
      ]
    },
    {
      "cell_type": "code",
      "metadata": {
        "id": "0UXVcqqYxGXt"
      },
      "source": [
        "import matplotlib.pyplot as plt"
      ],
      "execution_count": null,
      "outputs": []
    },
    {
      "cell_type": "code",
      "metadata": {
        "id": "BfJbLN7kxGXu"
      },
      "source": [
        "x, y, z = *slices[0].PixelSpacing, slices[0].SliceThickness\n",
        "x,y,z"
      ],
      "execution_count": null,
      "outputs": []
    },
    {
      "cell_type": "code",
      "metadata": {
        "id": "9CrjhrULxGXv"
      },
      "source": [
        "aspect_ratio = {\n",
        "    'axial': y/x,\n",
        "    'sagittal': y/z,\n",
        "    'coronal': x/z\n",
        "}"
      ],
      "execution_count": null,
      "outputs": []
    },
    {
      "cell_type": "code",
      "metadata": {
        "scrolled": true,
        "id": "w9eBrNT3xGXy"
      },
      "source": [
        "# plot 3 orthogonal slices\n",
        "a1 = plt.subplot(2, 2, 3)\n",
        "plt.imshow(CT_array[:, :, CT_array.shape[2]//2], cmap='gray')\n",
        "a1.set_aspect(aspect_ratio['axial'])\n",
        "a1.axis('off')\n",
        "a1.set_title('Axial')\n",
        "\n",
        "a2 = plt.subplot(2, 2, 1)\n",
        "ct = CT_array[:, CT_array.shape[1]//2 , :].T\n",
        "ct = np.flipud(ct)\n",
        "plt.imshow(ct, cmap='gray')\n",
        "a2.set_aspect(aspect_ratio['sagittal'])\n",
        "a2.axis('off')\n",
        "a2.set_title('Sagittal')\n",
        "\n",
        "\n",
        "a3 = plt.subplot(2, 2, 2)\n",
        "\n",
        "ct = CT_array[CT_array.shape[0]//2, :, :].T\n",
        "ct = np.flipud(ct)\n",
        "\n",
        "plt.imshow(ct, cmap='gray')\n",
        "a3.set_aspect(aspect_ratio['coronal'])\n",
        "a3.axis('off')\n",
        "a3.set_title('Coronal');\n"
      ],
      "execution_count": null,
      "outputs": []
    },
    {
      "cell_type": "markdown",
      "metadata": {
        "id": "kGlnIuicxGX0"
      },
      "source": [
        "# Another mistake: different series"
      ]
    },
    {
      "cell_type": "markdown",
      "metadata": {
        "id": "2uhGIARCxGX0"
      },
      "source": [
        "Actually, we made a mistake. In the folder, the files belong to different series. Let's find out how many!"
      ]
    },
    {
      "cell_type": "code",
      "metadata": {
        "id": "lrm1ToWtxGX0"
      },
      "source": [
        "from collections import Counter"
      ],
      "execution_count": null,
      "outputs": []
    },
    {
      "cell_type": "code",
      "metadata": {
        "id": "fx0uQHkRxGX2"
      },
      "source": [
        "count_series = Counter([slice_.SeriesNumber for slice_ in slices])\n",
        "count_series"
      ],
      "execution_count": null,
      "outputs": []
    },
    {
      "cell_type": "markdown",
      "metadata": {
        "id": "4II_zBfaxGX3"
      },
      "source": [
        "Let's build the series \"3\" list"
      ]
    },
    {
      "cell_type": "code",
      "metadata": {
        "id": "zlhEFN_JxGX5"
      },
      "source": [
        "slices_3 = [slice_ for slice_ in slices if slice_.SeriesNumber == 3]\n",
        "len(slices_3)"
      ],
      "execution_count": null,
      "outputs": []
    },
    {
      "cell_type": "code",
      "metadata": {
        "id": "lER6z5U4xGX7"
      },
      "source": [
        "slices_3[0].SeriesDescription"
      ],
      "execution_count": null,
      "outputs": []
    },
    {
      "cell_type": "markdown",
      "metadata": {
        "id": "R85fH1VfxGX8"
      },
      "source": [
        "Using a dictionary we can build the lists for all the different  series"
      ]
    },
    {
      "cell_type": "code",
      "metadata": {
        "id": "-fpaLmksxGX9"
      },
      "source": [
        "series = {k: [s for s in slices if s.SeriesNumber == k] for k in count_series.keys()}\n",
        "series.keys()"
      ],
      "execution_count": null,
      "outputs": []
    },
    {
      "cell_type": "code",
      "metadata": {
        "id": "lT9gPIqlxGX_"
      },
      "source": [
        "len(series[7])"
      ],
      "execution_count": null,
      "outputs": []
    }
  ]
}