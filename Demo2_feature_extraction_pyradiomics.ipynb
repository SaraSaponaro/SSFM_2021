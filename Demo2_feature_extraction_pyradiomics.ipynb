{
  "nbformat": 4,
  "nbformat_minor": 0,
  "metadata": {
    "colab": {
      "name": "Demo2_feature_extraction_pyradiomics.ipynb",
      "provenance": [],
      "collapsed_sections": [],
      "include_colab_link": true
    },
    "kernelspec": {
      "name": "python3",
      "display_name": "Python 3"
    }
  },
  "cells": [
    {
      "cell_type": "markdown",
      "metadata": {
        "id": "view-in-github",
        "colab_type": "text"
      },
      "source": [
        "<a href=\"https://colab.research.google.com/github/retico/SSFM_2021/blob/main/Demo2_feature_extraction_pyradiomics.ipynb\" target=\"_parent\"><img src=\"https://colab.research.google.com/assets/colab-badge.svg\" alt=\"Open In Colab\"/></a>"
      ]
    },
    {
      "cell_type": "markdown",
      "metadata": {
        "id": "t9OTD7yqOK_a"
      },
      "source": [
        "# Extracting features from a segmented lesion with PyRadiomics"
      ]
    },
    {
      "cell_type": "markdown",
      "metadata": {
        "id": "Toxlyzh9-_A9"
      },
      "source": [
        "This demo shows how to extract intensity and shape based features form segmented masses in mammography using the [PyRadiomics](https://www.radiomics.io/pyradiomics.html) python package.\n",
        "A number of mammography images and mass segmentatation masks are available in the [shared folder on Drive](https://drive.google.com/drive/folders/1YqK7ZkM-P2IrqfD7Pj-SCmjz-GWd_1-Y )\n",
        "\n",
        "in IMAGES/Mammography_masses/\n"
      ]
    },
    {
      "cell_type": "markdown",
      "metadata": {
        "id": "0tPFBhVmNFzF"
      },
      "source": [
        "# Reading data from Google Drive"
      ]
    },
    {
      "cell_type": "code",
      "metadata": {
        "id": "mTyqkmXu-rhd"
      },
      "source": [
        "from google.colab import drive\n",
        "drive.mount('/content/gdrive')"
      ],
      "execution_count": null,
      "outputs": []
    },
    {
      "cell_type": "code",
      "metadata": {
        "id": "3XNOMaM2MEeT"
      },
      "source": [
        "!unzip -q /content/gdrive/My\\ Drive/cmepda_medphys_dataset/IMAGES/Mammography_masses/small_sample_Im_segmented_ref.zip -d /content/\n",
        "\n",
        "dataset_path = \"/content/small_sample_Im_segmented_ref\""
      ],
      "execution_count": null,
      "outputs": []
    },
    {
      "cell_type": "code",
      "metadata": {
        "id": "-JmQNjmNMcHg"
      },
      "source": [
        "!ls /content/small_sample_Im_segmented_ref"
      ],
      "execution_count": null,
      "outputs": []
    },
    {
      "cell_type": "markdown",
      "metadata": {
        "id": "5FHURHoJNmA0"
      },
      "source": [
        "# Overview of the dataset.\n",
        "We use [Pillow](https://pypi.org/project/Pillow/), a Python Imaging Library which adds image processing capabilities to the Python interpreter"
      ]
    },
    {
      "cell_type": "code",
      "metadata": {
        "id": "OWcXgBnaNnT-"
      },
      "source": [
        "import os\n",
        "import PIL"
      ],
      "execution_count": null,
      "outputs": []
    },
    {
      "cell_type": "code",
      "metadata": {
        "id": "ciTxIwLvNr2P"
      },
      "source": [
        "PIL.Image.open(os.path.join(dataset_path, \"0008p1_3_1_2_resized.pgm\"))"
      ],
      "execution_count": null,
      "outputs": []
    },
    {
      "cell_type": "code",
      "metadata": {
        "id": "rj4vYBWjN5mI"
      },
      "source": [
        "PIL.Image.open(os.path.join(dataset_path, \"0008p1_3_1_2_mass_mask.pgm\"))"
      ],
      "execution_count": null,
      "outputs": []
    },
    {
      "cell_type": "markdown",
      "metadata": {
        "id": "7l49tQN6SKgx"
      },
      "source": [
        "# Install PyRadiomics"
      ]
    },
    {
      "cell_type": "code",
      "metadata": {
        "id": "rfNm5351Scbq"
      },
      "source": [
        "!pip install pyradiomics"
      ],
      "execution_count": null,
      "outputs": []
    },
    {
      "cell_type": "markdown",
      "metadata": {
        "id": "XQ056OloS-l0"
      },
      "source": [
        "# Use PyRadiomics for feature extraction"
      ]
    },
    {
      "cell_type": "code",
      "metadata": {
        "id": "TFPoMLZQSO8h"
      },
      "source": [
        "import os\n",
        "import numpy as np\n",
        "import six\n",
        "from radiomics import featureextractor, getFeatureClasses\n",
        "import radiomics"
      ],
      "execution_count": null,
      "outputs": []
    },
    {
      "cell_type": "markdown",
      "metadata": {
        "id": "urCbvXPKTpce"
      },
      "source": [
        "The feature extractor handles preprocessing, and then calls the needed featureclasses to calculate the features."
      ]
    },
    {
      "cell_type": "code",
      "metadata": {
        "id": "zhDJVlI8W3TS"
      },
      "source": [
        "featureClasses = getFeatureClasses()"
      ],
      "execution_count": null,
      "outputs": []
    },
    {
      "cell_type": "code",
      "metadata": {
        "id": "6oRxL7_jCnRi"
      },
      "source": [
        "featureClasses"
      ],
      "execution_count": null,
      "outputs": []
    },
    {
      "cell_type": "markdown",
      "metadata": {
        "id": "pBSDu93V-_n-"
      },
      "source": [
        "We have to initialize the feature extractor and we can customize extraction settings "
      ]
    },
    {
      "cell_type": "code",
      "metadata": {
        "id": "LtrVu4pvTqIE"
      },
      "source": [
        "settings = {}\n",
        "settings['binWidth'] = 25\n",
        "settings['resampledPixelSpacing'] = None\n",
        "settings['interpolator'] = 'sitkBSpline'\n",
        "settings['verbose'] = True\n",
        "\n",
        "extractor = featureextractor.RadiomicsFeatureExtractor(**settings)"
      ],
      "execution_count": null,
      "outputs": []
    },
    {
      "cell_type": "markdown",
      "metadata": {
        "id": "jj_qgyndDw8Q"
      },
      "source": [
        "Input images: by default 'original' (no filtered) images are enabled. Optionally different image types can be enabled, e.g. "
      ]
    },
    {
      "cell_type": "code",
      "metadata": {
        "id": "4_Yq6G3RE5KE"
      },
      "source": [
        "extractor.enableImageTypeByName('Wavelet')"
      ],
      "execution_count": null,
      "outputs": []
    },
    {
      "cell_type": "markdown",
      "metadata": {
        "id": "pRClgZD1E-1c"
      },
      "source": [
        "To check the enabled input images"
      ]
    },
    {
      "cell_type": "code",
      "metadata": {
        "id": "iFAOB6wcT6g0"
      },
      "source": [
        "for imageType in extractor.enabledImagetypes.keys():\n",
        "    print('\\t' + imageType)"
      ],
      "execution_count": null,
      "outputs": []
    },
    {
      "cell_type": "markdown",
      "metadata": {
        "id": "z-ovlW4UFKsJ"
      },
      "source": [
        "To disable all feature classes"
      ]
    },
    {
      "cell_type": "code",
      "metadata": {
        "id": "oIPAOPQBFP2v"
      },
      "source": [
        "extractor.disableAllFeatures()"
      ],
      "execution_count": null,
      "outputs": []
    },
    {
      "cell_type": "markdown",
      "metadata": {
        "id": "sWIzkzewFRVu"
      },
      "source": [
        "To enable all features in firstorder"
      ]
    },
    {
      "cell_type": "code",
      "metadata": {
        "id": "Mhva6yPTFXgY"
      },
      "source": [
        "extractor.enableFeatureClassByName('firstorder')"
      ],
      "execution_count": null,
      "outputs": []
    },
    {
      "cell_type": "markdown",
      "metadata": {
        "id": "32YK1_u0FZip"
      },
      "source": [
        "Alternatively: only enable 'Mean' and 'Skewness' features in firstorder"
      ]
    },
    {
      "cell_type": "code",
      "metadata": {
        "id": "UPk9wrPPUAxZ"
      },
      "source": [
        "extractor.enableFeaturesByName(firstorder=['Mean', 'Skewness'])"
      ],
      "execution_count": null,
      "outputs": []
    },
    {
      "cell_type": "code",
      "metadata": {
        "id": "C3ng9GHaVJmC"
      },
      "source": [
        "extractor.enabledFeatures\n"
      ],
      "execution_count": null,
      "outputs": []
    },
    {
      "cell_type": "markdown",
      "metadata": {
        "id": "aH-9NAWHFyAy"
      },
      "source": [
        "We can get the docstrings of the active features"
      ]
    },
    {
      "cell_type": "code",
      "metadata": {
        "id": "snoGTeM0UF0U"
      },
      "source": [
        "print('Active features:')\n",
        "for cls, features in six.iteritems(extractor.enabledFeatures):\n",
        "  if len(features) == 0:\n",
        "    features = [f for f, deprecated in six.iteritems(featureClasses[cls].getFeatureNames()) if not deprecated]\n",
        "  for f in features:\n",
        "    print(f)\n",
        "    print(getattr(featureClasses[cls], 'get%sFeatureValue' % f).__doc__)"
      ],
      "execution_count": null,
      "outputs": []
    },
    {
      "cell_type": "markdown",
      "metadata": {
        "id": "UbEpzIvoXcye"
      },
      "source": [
        "# Reading the images in memory "
      ]
    },
    {
      "cell_type": "markdown",
      "metadata": {
        "id": "Bks9RqBm12nM"
      },
      "source": [
        "PyRadiomics accept [SimpleITK](https://simpleitk.org/) objects in input"
      ]
    },
    {
      "cell_type": "code",
      "metadata": {
        "id": "afMSoC_1r-hz"
      },
      "source": [
        "import SimpleITK as sitk"
      ],
      "execution_count": null,
      "outputs": []
    },
    {
      "cell_type": "markdown",
      "metadata": {
        "id": "2vXila-C2DU-"
      },
      "source": [
        "Out images are \".pgm\" files. This format is not supported by SimpleITK "
      ]
    },
    {
      "cell_type": "code",
      "metadata": {
        "id": "n2LcsJwNsfBa"
      },
      "source": [
        "os.path.join(dataset_path, \"0008p1_3_1_2_resized.pgm\")"
      ],
      "execution_count": null,
      "outputs": []
    },
    {
      "cell_type": "markdown",
      "metadata": {
        "id": "kxZplBMV2P2w"
      },
      "source": [
        "We read the images with Pillow and store them in NumPy array, than we convert them in a SimpleITK object"
      ]
    },
    {
      "cell_type": "code",
      "metadata": {
        "id": "a3g0NriB4Usd"
      },
      "source": [
        "def read_pgm_as_sitk(image_path):\n",
        "  \"\"\" Read a pgm image as sitk image \"\"\"\n",
        "  np_array = np.asarray(PIL.Image.open(image_path))\n",
        "  sitk_image = sitk.GetImageFromArray(np_array)\n",
        "  return sitk_image"
      ],
      "execution_count": null,
      "outputs": []
    },
    {
      "cell_type": "code",
      "metadata": {
        "id": "WlAsRjmc46iV"
      },
      "source": [
        "im_1 = read_pgm_as_sitk(os.path.join(dataset_path, \"0008p1_3_1_2_resized.pgm\"))\n",
        "im_1_mask = read_pgm_as_sitk(os.path.join(dataset_path, \"0008p1_3_1_2_mass_mask.pgm\"))"
      ],
      "execution_count": null,
      "outputs": []
    },
    {
      "cell_type": "code",
      "metadata": {
        "id": "busUk5p85REs"
      },
      "source": [
        "type(im_1)"
      ],
      "execution_count": null,
      "outputs": []
    },
    {
      "cell_type": "markdown",
      "metadata": {
        "id": "jfUGXJnr1Nia"
      },
      "source": [
        "# Calculating the values of active features"
      ]
    },
    {
      "cell_type": "code",
      "metadata": {
        "id": "Lcdl7qTCXcgT"
      },
      "source": [
        "print('Calculating features')\n",
        "featureDict = extractor.execute(im_1,im_1_mask,label=255)\n",
        "type(featureDict)"
      ],
      "execution_count": null,
      "outputs": []
    },
    {
      "cell_type": "markdown",
      "metadata": {
        "id": "WrYos8Jh3ALh"
      },
      "source": [
        "Features are stored in a dictionary"
      ]
    },
    {
      "cell_type": "code",
      "metadata": {
        "id": "p3-QyX_G6XSI"
      },
      "source": [
        "featureDict"
      ],
      "execution_count": null,
      "outputs": []
    },
    {
      "cell_type": "markdown",
      "metadata": {
        "id": "uANZMCnYmg3O"
      },
      "source": [
        "# Compute the features for the whole dataset and store them in a file "
      ]
    },
    {
      "cell_type": "markdown",
      "metadata": {
        "id": "_qIsF1Jh32Ub"
      },
      "source": [
        "We will compute the features for the whole dataset, and we will add to the dictionary the case IDs\n",
        "\n",
        "\n"
      ]
    },
    {
      "cell_type": "code",
      "metadata": {
        "id": "1AQV856H-3fB"
      },
      "source": [
        "import glob\n",
        "import csv"
      ],
      "execution_count": null,
      "outputs": []
    },
    {
      "cell_type": "code",
      "metadata": {
        "id": "HG5P6YiX-5jV"
      },
      "source": [
        "images_fnames = glob.glob(os.path.join(dataset_path,'*_resized.pgm'))"
      ],
      "execution_count": null,
      "outputs": []
    },
    {
      "cell_type": "code",
      "metadata": {
        "id": "G77SQzaM_cpI"
      },
      "source": [
        "extracted_data = []\n",
        "for image_fname in images_fnames:\n",
        "  mask_fname = image_fname.replace('resized', 'mass_mask')\n",
        "  image = read_pgm_as_sitk(image_fname)\n",
        "  mask = read_pgm_as_sitk(mask_fname)\n",
        "  featureVector = extractor.execute(image, mask, label=255)\n",
        "  featureVector['image_ID'] = os.path.basename(image_fname)\n",
        "  featureVector['mask_ID'] = os.path.basename(mask_fname)\n",
        "  extracted_data.append(featureVector)\n"
      ],
      "execution_count": null,
      "outputs": []
    },
    {
      "cell_type": "code",
      "metadata": {
        "id": "PLvEM0i59qUM"
      },
      "source": [
        "extracted_data"
      ],
      "execution_count": null,
      "outputs": []
    },
    {
      "cell_type": "markdown",
      "metadata": {
        "id": "-DnGAGdK5rr9"
      },
      "source": [
        "The extracted data is a list of dictionary"
      ]
    },
    {
      "cell_type": "code",
      "metadata": {
        "id": "Lmt4CK11-voP"
      },
      "source": [
        "type(extracted_data)"
      ],
      "execution_count": null,
      "outputs": []
    },
    {
      "cell_type": "markdown",
      "metadata": {
        "id": "BGISGYAd6mxW"
      },
      "source": [
        "We will identify the variables we will store in the .csv file. "
      ]
    },
    {
      "cell_type": "code",
      "metadata": {
        "id": "P74z4VXCqYcx"
      },
      "source": [
        "list(extracted_data[0].keys())"
      ],
      "execution_count": null,
      "outputs": []
    },
    {
      "cell_type": "markdown",
      "metadata": {
        "id": "ARWP1O1e6bq0"
      },
      "source": [
        "We can either store them all: "
      ]
    },
    {
      "cell_type": "code",
      "metadata": {
        "id": "Q9Sa8zw-6cMU"
      },
      "source": [
        "csv_columns =  list(extracted_data[0].keys())"
      ],
      "execution_count": null,
      "outputs": []
    },
    {
      "cell_type": "markdown",
      "metadata": {
        "id": "KIARtxjA7OvP"
      },
      "source": [
        "or we can select a number of interesting features:"
      ]
    },
    {
      "cell_type": "code",
      "metadata": {
        "id": "1pudLtCPp8ok"
      },
      "source": [
        "selected_features_name = [x for x in list(extracted_data[0].keys()) if 'firstorder' in x]\n",
        "csv_columns = [ 'image_ID', 'mask_ID' ] + selected_features_name\n",
        "csv_columns \n"
      ],
      "execution_count": null,
      "outputs": []
    },
    {
      "cell_type": "markdown",
      "metadata": {
        "id": "smA845vy40Gd"
      },
      "source": [
        "We will store the selected features for further analysis in a .csv file"
      ]
    },
    {
      "cell_type": "code",
      "metadata": {
        "id": "gYVxxu49mfj1"
      },
      "source": [
        "csv_file = \"extracted_features.csv\"\n",
        "\n",
        "with open(csv_file, 'w') as csvfile:\n",
        "    writer = csv.DictWriter(csvfile, fieldnames=csv_columns, extrasaction='ignore' )\n",
        "    writer.writeheader()\n",
        "    for data in extracted_data:\n",
        "        writer.writerow(data)"
      ],
      "execution_count": null,
      "outputs": []
    },
    {
      "cell_type": "code",
      "metadata": {
        "id": "--1lnhO-9OjQ"
      },
      "source": [
        "!ls"
      ],
      "execution_count": null,
      "outputs": []
    },
    {
      "cell_type": "code",
      "metadata": {
        "id": "nBXRkMTX91oH"
      },
      "source": [
        "!cat extracted_features.csv"
      ],
      "execution_count": null,
      "outputs": []
    },
    {
      "cell_type": "markdown",
      "metadata": {
        "id": "DlPy80wt8FO7"
      },
      "source": [
        "We can copy the output file on our gdrive folder, as the /content/ forlder content will be reset after the session"
      ]
    },
    {
      "cell_type": "code",
      "metadata": {
        "id": "mOA-BHVv9-ka"
      },
      "source": [
        "!cp extracted_features.csv /content/gdrive/My\\ Drive/."
      ],
      "execution_count": null,
      "outputs": []
    }
  ]
}