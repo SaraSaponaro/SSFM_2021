{
  "nbformat": 4,
  "nbformat_minor": 0,
  "metadata": {
    "kernelspec": {
      "display_name": "Python 3",
      "language": "python",
      "name": "python3"
    },
    "language_info": {
      "codemirror_mode": {
        "name": "ipython",
        "version": 3
      },
      "file_extension": ".py",
      "mimetype": "text/x-python",
      "name": "python",
      "nbconvert_exporter": "python",
      "pygments_lexer": "ipython3",
      "version": "3.7.3"
    },
    "colab": {
      "name": "Demo3_anonymize.ipynb",
      "provenance": [],
      "include_colab_link": true
    }
  },
  "cells": [
    {
      "cell_type": "markdown",
      "metadata": {
        "id": "view-in-github",
        "colab_type": "text"
      },
      "source": [
        "<a href=\"https://colab.research.google.com/github/retico/SSFM_2021/blob/main/Demo3_anonymize.ipynb\" target=\"_parent\"><img src=\"https://colab.research.google.com/assets/colab-badge.svg\" alt=\"Open In Colab\"/></a>"
      ]
    },
    {
      "cell_type": "code",
      "metadata": {
        "id": "9kB32tC61Rjx"
      },
      "source": [
        "%matplotlib inline"
      ],
      "execution_count": null,
      "outputs": []
    },
    {
      "cell_type": "markdown",
      "metadata": {
        "id": "stFmDqShuwU2"
      },
      "source": [
        "# Reading the dataset from Google Drive\n",
        "Prior to this operation be sure to have added the shared folder to your Google Drive"
      ]
    },
    {
      "cell_type": "code",
      "metadata": {
        "id": "1rZTWcJbuvow"
      },
      "source": [
        "from google.colab import drive\n",
        "drive.mount('/content/drive')"
      ],
      "execution_count": null,
      "outputs": []
    },
    {
      "cell_type": "code",
      "metadata": {
        "id": "8qod2VgJvg19"
      },
      "source": [
        "!ls \"/content/drive/My Drive/cmepda_medphys_dataset\""
      ],
      "execution_count": null,
      "outputs": []
    },
    {
      "cell_type": "code",
      "metadata": {
        "id": "QNVzgUb3vwI2"
      },
      "source": [
        "DATASETS = \"/content/drive/My Drive/cmepda_medphys_dataset\""
      ],
      "execution_count": null,
      "outputs": []
    },
    {
      "cell_type": "markdown",
      "metadata": {
        "id": "qMeygKEv1RkB"
      },
      "source": [
        "## Anonymize a single file"
      ]
    },
    {
      "cell_type": "code",
      "metadata": {
        "id": "0nmRWN4m16Gt"
      },
      "source": [
        "!pip install pydicom"
      ],
      "execution_count": null,
      "outputs": []
    },
    {
      "cell_type": "code",
      "metadata": {
        "id": "OMdc5BL62Nj2"
      },
      "source": [
        "import pydicom"
      ],
      "execution_count": null,
      "outputs": []
    },
    {
      "cell_type": "code",
      "metadata": {
        "id": "gqGGK5CP1RkE"
      },
      "source": [
        "filename = DATASETS + \"/IMAGES/DICOM_Examples/Brain_MRI/IM67_1slice.dcm\"\n",
        "dataset = pydicom.dcmread(filename)"
      ],
      "execution_count": null,
      "outputs": []
    },
    {
      "cell_type": "code",
      "metadata": {
        "id": "JAFRCdN31RkH"
      },
      "source": [
        "elements = ['PatientID',\n",
        "                 'PatientBirthDate']\n",
        "for element in elements:\n",
        "    print(dataset.data_element(element))"
      ],
      "execution_count": null,
      "outputs": []
    },
    {
      "cell_type": "code",
      "metadata": {
        "scrolled": true,
        "id": "omMjEq7z1RkM"
      },
      "source": [
        "dataset"
      ],
      "execution_count": null,
      "outputs": []
    },
    {
      "cell_type": "markdown",
      "metadata": {
        "id": "zH1J1Zrt1RkP"
      },
      "source": [
        "We can define a callback function to find all tags corresponding to a person\n",
        "names inside the dataset."
      ]
    },
    {
      "cell_type": "code",
      "metadata": {
        "id": "ZWmpXcQl1RkR"
      },
      "source": [
        "def person_names_callback(dataset, data_element):\n",
        "    if data_element.VR == \"PN\": #VR = value representation, PN=persons's name\n",
        "        data_element.value = \"anonymous\"\n",
        "        \n",
        "def scanner_info_callback(dataset, data_element):\n",
        "    if data_element.VR == \"LO\":\n",
        "        data_element.value = \"scanner info\""
      ],
      "execution_count": null,
      "outputs": []
    },
    {
      "cell_type": "markdown",
      "metadata": {
        "id": "3uf2L6Ey1RkV"
      },
      "source": [
        "We can use the different callback function to iterate through the dataset but\n",
        "also some other tags such that patient ID, etc.\n",
        "\n",
        "This can be achieved by means of the `walk` method, which iterates over the data elements of the *FileDataset* object:"
      ]
    },
    {
      "cell_type": "code",
      "metadata": {
        "id": "bV9wfJwz1RkV"
      },
      "source": [
        "dataset.walk(person_names_callback)\n",
        "dataset.walk(scanner_info_callback)"
      ],
      "execution_count": null,
      "outputs": []
    },
    {
      "cell_type": "markdown",
      "metadata": {
        "id": "wM_tLf7j1Rka"
      },
      "source": [
        "or, equivalently, as:"
      ]
    },
    {
      "cell_type": "code",
      "metadata": {
        "id": "Wdr_5hQz1Rkb"
      },
      "source": [
        "callbacks = [person_names_callback, scanner_info_callback]\n",
        "for callback in callbacks:\n",
        "    dataset.walk(callback)"
      ],
      "execution_count": null,
      "outputs": []
    },
    {
      "cell_type": "markdown",
      "metadata": {
        "id": "4w2AQLxn1Rke"
      },
      "source": [
        "pydicom allows to remove private tags using `remove_private_tags` method"
      ]
    },
    {
      "cell_type": "code",
      "metadata": {
        "id": "hBBxMgtA1Rkg"
      },
      "source": [
        "dataset.remove_private_tags()"
      ],
      "execution_count": null,
      "outputs": []
    },
    {
      "cell_type": "markdown",
      "metadata": {
        "id": "LSwOouj31Rkj"
      },
      "source": [
        "Optional data elements can be easily deleted using `del` or `delattr`.\n",
        "\n"
      ]
    },
    {
      "cell_type": "code",
      "metadata": {
        "id": "WeNEV-_U1Rkk"
      },
      "source": [
        "if 'OtherPatientIDs' in dataset:\n",
        "    delattr(dataset, 'OtherPatientIDs')\n",
        "\n",
        "if 'OtherPatientIDsSequence' in dataset:\n",
        "    del dataset.OtherPatientIDsSequence"
      ],
      "execution_count": null,
      "outputs": []
    },
    {
      "cell_type": "markdown",
      "metadata": {
        "id": "CNoHnpFC1Rkn"
      },
      "source": [
        "Data can also be modified via assignments:"
      ]
    },
    {
      "cell_type": "code",
      "metadata": {
        "id": "niLQkgzf1Rko"
      },
      "source": [
        "dataset.OperatorsName= 'Lucio Verdi'"
      ],
      "execution_count": null,
      "outputs": []
    },
    {
      "cell_type": "markdown",
      "metadata": {
        "id": "txylhE-E1Rj6"
      },
      "source": [
        "\n",
        "# Anonymize DICOM data\n",
        "\n",
        "\n",
        "This example is a starting point to anonymize DICOM data.\n",
        "\n",
        "It shows how to read data and replace tags: person names, patient id,\n",
        "optionally remove curves and private tags, and write the results in a new file.\n"
      ]
    },
    {
      "cell_type": "markdown",
      "metadata": {
        "id": "m5ixxhbe1Rkq"
      },
      "source": [
        "# Anonymizing the birthdate"
      ]
    },
    {
      "cell_type": "markdown",
      "metadata": {
        "id": "hzD4yADT1Rks"
      },
      "source": [
        "Let's try to set the birth date to the first day of the month"
      ]
    },
    {
      "cell_type": "code",
      "metadata": {
        "id": "8SQSFSAx1Rkt"
      },
      "source": [
        "import datetime\n",
        "import time"
      ],
      "execution_count": null,
      "outputs": []
    },
    {
      "cell_type": "code",
      "metadata": {
        "id": "utGlqzs21Rkw"
      },
      "source": [
        "date = '20000122'"
      ],
      "execution_count": null,
      "outputs": []
    },
    {
      "cell_type": "code",
      "metadata": {
        "id": "iplvy7DM1Rky"
      },
      "source": [
        "format_ = \"%Y%m%d\"\n",
        "time_struct = time.strptime(date, format_)\n",
        "time_struct"
      ],
      "execution_count": null,
      "outputs": []
    },
    {
      "cell_type": "code",
      "metadata": {
        "id": "YEcOtj4q1Rk2"
      },
      "source": [
        "birth_date = datetime.datetime(*time_struct[:3])\n",
        "birth_date"
      ],
      "execution_count": null,
      "outputs": []
    },
    {
      "cell_type": "markdown",
      "metadata": {
        "id": "dgyENNBi1Rk4"
      },
      "source": [
        "datetime.datetime objects are immutable"
      ]
    },
    {
      "cell_type": "code",
      "metadata": {
        "id": "OxHFy9yP1Rk6"
      },
      "source": [
        "birth_date.day = 1"
      ],
      "execution_count": null,
      "outputs": []
    },
    {
      "cell_type": "code",
      "metadata": {
        "id": "waCuorSp1Rk8"
      },
      "source": [
        "new_date = birth_date.replace(day=1, month=5)\n",
        "new_date"
      ],
      "execution_count": null,
      "outputs": []
    },
    {
      "cell_type": "code",
      "metadata": {
        "id": "L447MN591Rk_"
      },
      "source": [
        "new_date.strftime(format_)"
      ],
      "execution_count": null,
      "outputs": []
    },
    {
      "cell_type": "code",
      "metadata": {
        "id": "u7aSfCIv1RlD"
      },
      "source": [
        "def anonimize_day(date_str, format_=\"%Y%m%d\", day=1):\n",
        "    time_struct = time.strptime(date_str, format_)\n",
        "    date = datetime.datetime(*time_struct[:3])\n",
        "    new_date = date.replace(day=day)\n",
        "    return new_date.strftime(format_)\n"
      ],
      "execution_count": null,
      "outputs": []
    },
    {
      "cell_type": "code",
      "metadata": {
        "id": "oGDT326H1RlF"
      },
      "source": [
        "tag = 'PatientBirthDate'\n",
        "if tag in dataset:\n",
        "    date_str = dataset.data_element(tag).value\n",
        "    dataset.data_element(tag).value = anonimize_day(date_str, day=5)\n",
        "dataset.PatientBirthDate"
      ],
      "execution_count": null,
      "outputs": []
    },
    {
      "cell_type": "markdown",
      "metadata": {
        "id": "DyvYSVU-1RlH"
      },
      "source": [
        "Finally, it is possible to store the image\n",
        "\n"
      ]
    },
    {
      "cell_type": "code",
      "metadata": {
        "id": "dusvlVPD1RlJ"
      },
      "source": [
        "output_filename ='IM67_orig_anon.dcm'\n",
        "dataset.save_as(output_filename)"
      ],
      "execution_count": null,
      "outputs": []
    },
    {
      "cell_type": "markdown",
      "metadata": {
        "id": "emt6r6td1RlL"
      },
      "source": [
        "## Anonymize a folder"
      ]
    },
    {
      "cell_type": "code",
      "metadata": {
        "id": "4ilXAGe21RlM"
      },
      "source": [
        "import glob\n",
        "import os"
      ],
      "execution_count": null,
      "outputs": []
    },
    {
      "cell_type": "code",
      "metadata": {
        "id": "XxiUWE_h1RlO"
      },
      "source": [
        "DIR_NAME = DATASETS + \"/IMAGES/DICOM_Examples/Breast_Mammography_Case2/\"\n",
        "PATTERN='*.dcm'"
      ],
      "execution_count": null,
      "outputs": []
    },
    {
      "cell_type": "code",
      "metadata": {
        "id": "R6Q_Bbfj1RlR"
      },
      "source": [
        "!ls -R '/content/drive/My Drive/cmepda_medphys_dataset/IMAGES/DICOM_Examples/Breast_Mammography_Case2/'"
      ],
      "execution_count": null,
      "outputs": []
    },
    {
      "cell_type": "markdown",
      "metadata": {
        "id": "DLV7EVg21RlT"
      },
      "source": [
        "Here we define a generator to get the names of the dicom files and an anonymization function"
      ]
    },
    {
      "cell_type": "code",
      "metadata": {
        "id": "wA6diTeW1RlU"
      },
      "source": [
        "def file_list_generator(dir_name, pattern):\n",
        "    for path, subfolder, files in os.walk(dir_name):\n",
        "        for file in files:\n",
        "            if glob.fnmatch.fnmatch(file, pattern):\n",
        "                yield os.path.join(path, file)"
      ],
      "execution_count": null,
      "outputs": []
    },
    {
      "cell_type": "code",
      "metadata": {
        "id": "9-2PkWrT1RlW"
      },
      "source": [
        "def anonymize_file(fname):\n",
        "    dataset = pydicom.dcmread(fname)\n",
        "    callbacks = [person_names_callback, scanner_info_callback]\n",
        "    for callback in callbacks:\n",
        "        dataset.walk(callback)\n",
        "    output_filename = fname.replace('.dcm', '_anonym.dcm')\n",
        "    output_filename = os.path.basename(output_filename)\n",
        "    output_filename = os.path.join('/content', output_filename)\n",
        "    dataset.save_as(output_filename)\n"
      ],
      "execution_count": null,
      "outputs": []
    },
    {
      "cell_type": "code",
      "metadata": {
        "id": "xCSWoSOE1RlY"
      },
      "source": [
        "import multiprocessing\n",
        "pool = multiprocessing.Pool()"
      ],
      "execution_count": null,
      "outputs": []
    },
    {
      "cell_type": "markdown",
      "metadata": {
        "id": "C3ZvVHHZ1Rla"
      },
      "source": [
        "The map operator applies the function *anonimyze_file* to each element of the iterator *file_list_generator*."
      ]
    },
    {
      "cell_type": "code",
      "metadata": {
        "id": "y7_y5fZh1Rla"
      },
      "source": [
        "pool.map(anonymize_file, file_list_generator(DIR_NAME, PATTERN))"
      ],
      "execution_count": null,
      "outputs": []
    },
    {
      "cell_type": "code",
      "metadata": {
        "id": "k-dH8YiZ3CxT"
      },
      "source": [
        "os.listdir('/content')"
      ],
      "execution_count": null,
      "outputs": []
    },
    {
      "cell_type": "code",
      "metadata": {
        "id": "6EP1Bjf7BZBR"
      },
      "source": [
        ""
      ],
      "execution_count": null,
      "outputs": []
    }
  ]
}